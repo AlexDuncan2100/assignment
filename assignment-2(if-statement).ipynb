{
 "nbformat": 4,
 "nbformat_minor": 2,
 "metadata": {
  "language_info": {
   "name": "python",
   "codemirror_mode": {
    "name": "ipython",
    "version": 3
   },
   "version": "3.7.6-final"
  },
  "orig_nbformat": 2,
  "file_extension": ".py",
  "mimetype": "text/x-python",
  "name": "python",
  "npconvert_exporter": "python",
  "pygments_lexer": "ipython3",
  "version": 3,
  "kernelspec": {
   "name": "python3",
   "display_name": "Python 3"
  }
 },
 "cells": [
  {
   "cell_type": "code",
   "execution_count": 3,
   "metadata": {},
   "outputs": [
    {
     "output_type": "stream",
     "name": "stdout",
     "text": "you are not in risky group\n"
    }
   ],
   "source": [
    "age = input(\"Are you a cigarette addict older than 75 years old? Yes/No: \" ).title().strip()\n",
    "\n",
    "chronic = input(\"Do you have a severe chronic disease? Yes/No: \").title().strip()\n",
    "\n",
    "immune = input(\"Is your immune system too weak? Yes/No :\").title().strip()\n",
    "\n",
    "if age == \"Yes\" or chronic == \"Yes\" or  immune ==\"Yes\":\n",
    "    print(\"you are in risky group \")\n",
    "\n",
    "else:\n",
    "    print(\"you are not in risky group\")"
   ]
  },
  {
   "cell_type": "code",
   "execution_count": null,
   "metadata": {},
   "outputs": [],
   "source": []
  }
 ]
}